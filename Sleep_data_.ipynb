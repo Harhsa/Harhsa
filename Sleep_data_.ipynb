{
  "nbformat": 4,
  "nbformat_minor": 0,
  "metadata": {
    "colab": {
      "provenance": [],
      "authorship_tag": "ABX9TyNskWw9P5g3zwbME1SygaQB",
      "include_colab_link": true
    },
    "kernelspec": {
      "name": "python3",
      "display_name": "Python 3"
    },
    "language_info": {
      "name": "python"
    }
  },
  "cells": [
    {
      "cell_type": "markdown",
      "metadata": {
        "id": "view-in-github",
        "colab_type": "text"
      },
      "source": [
        "<a href=\"https://colab.research.google.com/github/Harhsa/Harhsa/blob/main/Sleep_data_.ipynb\" target=\"_parent\"><img src=\"https://colab.research.google.com/assets/colab-badge.svg\" alt=\"Open In Colab\"/></a>"
      ]
    },
    {
      "cell_type": "markdown",
      "source": [
        "##**Sleep data**"
      ],
      "metadata": {
        "id": "egZLIJHumfuj"
      }
    },
    {
      "cell_type": "markdown",
      "source": [
        "#Load the Data"
      ],
      "metadata": {
        "id": "Tbm_p62WmlGH"
      }
    },
    {
      "cell_type": "code",
      "source": [
        "import pandas as pd\n",
        "\n",
        "# Load datasets\n",
        "minute_sleep_df = pd.read_csv('minuteSleep_merged.csv')\n",
        "sleep_day_df = pd.read_csv('sleepDay_merged.csv')\n",
        "\n",
        "# Display first few rows of each dataframe\n",
        "minute_sleep_df.head(), sleep_day_df.head()\n"
      ],
      "metadata": {
        "colab": {
          "base_uri": "https://localhost:8080/"
        },
        "id": "H69mKIOympC6",
        "outputId": "4654a4a4-f772-4757-936f-1d98b0ff9f3c"
      },
      "execution_count": 1,
      "outputs": [
        {
          "output_type": "execute_result",
          "data": {
            "text/plain": [
              "(           Id                  date  value        logId\n",
              " 0  1503960366  4/12/2016 2:47:30 AM      3  11380564589\n",
              " 1  1503960366  4/12/2016 2:48:30 AM      2  11380564589\n",
              " 2  1503960366  4/12/2016 2:49:30 AM      1  11380564589\n",
              " 3  1503960366  4/12/2016 2:50:30 AM      1  11380564589\n",
              " 4  1503960366  4/12/2016 2:51:30 AM      1  11380564589,\n",
              "            Id               SleepDay  TotalSleepRecords  TotalMinutesAsleep  \\\n",
              " 0  1503960366  4/12/2016 12:00:00 AM                  1                 327   \n",
              " 1  1503960366  4/13/2016 12:00:00 AM                  2                 384   \n",
              " 2  1503960366  4/15/2016 12:00:00 AM                  1                 412   \n",
              " 3  1503960366  4/16/2016 12:00:00 AM                  2                 340   \n",
              " 4  1503960366  4/17/2016 12:00:00 AM                  1                 700   \n",
              " \n",
              "    TotalTimeInBed  \n",
              " 0             346  \n",
              " 1             407  \n",
              " 2             442  \n",
              " 3             367  \n",
              " 4             712  )"
            ]
          },
          "metadata": {},
          "execution_count": 1
        }
      ]
    },
    {
      "cell_type": "markdown",
      "source": [
        "#Explore the Data"
      ],
      "metadata": {
        "id": "zqg-vB98msBM"
      }
    },
    {
      "cell_type": "code",
      "source": [
        "# Check for missing values and data types\n",
        "minute_sleep_df.info()\n",
        "sleep_day_df.info()\n",
        "\n",
        "# Summary statistics\n",
        "minute_sleep_df.describe()\n",
        "sleep_day_df.describe()\n"
      ],
      "metadata": {
        "colab": {
          "base_uri": "https://localhost:8080/",
          "height": 699
        },
        "id": "6N0svSSdm0OJ",
        "outputId": "d3b7565c-28b7-43cb-99e7-1f5bc43376b9"
      },
      "execution_count": 4,
      "outputs": [
        {
          "output_type": "stream",
          "name": "stdout",
          "text": [
            "<class 'pandas.core.frame.DataFrame'>\n",
            "RangeIndex: 188521 entries, 0 to 188520\n",
            "Data columns (total 4 columns):\n",
            " #   Column  Non-Null Count   Dtype \n",
            "---  ------  --------------   ----- \n",
            " 0   Id      188521 non-null  int64 \n",
            " 1   date    188521 non-null  object\n",
            " 2   value   188521 non-null  int64 \n",
            " 3   logId   188521 non-null  int64 \n",
            "dtypes: int64(3), object(1)\n",
            "memory usage: 5.8+ MB\n",
            "<class 'pandas.core.frame.DataFrame'>\n",
            "RangeIndex: 413 entries, 0 to 412\n",
            "Data columns (total 5 columns):\n",
            " #   Column              Non-Null Count  Dtype \n",
            "---  ------              --------------  ----- \n",
            " 0   Id                  413 non-null    int64 \n",
            " 1   SleepDay            413 non-null    object\n",
            " 2   TotalSleepRecords   413 non-null    int64 \n",
            " 3   TotalMinutesAsleep  413 non-null    int64 \n",
            " 4   TotalTimeInBed      413 non-null    int64 \n",
            "dtypes: int64(4), object(1)\n",
            "memory usage: 16.3+ KB\n"
          ]
        },
        {
          "output_type": "execute_result",
          "data": {
            "text/plain": [
              "                 Id  TotalSleepRecords  TotalMinutesAsleep  TotalTimeInBed\n",
              "count  4.130000e+02         413.000000          413.000000      413.000000\n",
              "mean   5.000979e+09           1.118644          419.467312      458.639225\n",
              "std    2.060360e+09           0.345521          118.344679      127.101607\n",
              "min    1.503960e+09           1.000000           58.000000       61.000000\n",
              "25%    3.977334e+09           1.000000          361.000000      403.000000\n",
              "50%    4.702922e+09           1.000000          433.000000      463.000000\n",
              "75%    6.962181e+09           1.000000          490.000000      526.000000\n",
              "max    8.792010e+09           3.000000          796.000000      961.000000"
            ],
            "text/html": [
              "\n",
              "  <div id=\"df-c6a979d6-ffeb-4de2-9b57-9037032a1ab7\" class=\"colab-df-container\">\n",
              "    <div>\n",
              "<style scoped>\n",
              "    .dataframe tbody tr th:only-of-type {\n",
              "        vertical-align: middle;\n",
              "    }\n",
              "\n",
              "    .dataframe tbody tr th {\n",
              "        vertical-align: top;\n",
              "    }\n",
              "\n",
              "    .dataframe thead th {\n",
              "        text-align: right;\n",
              "    }\n",
              "</style>\n",
              "<table border=\"1\" class=\"dataframe\">\n",
              "  <thead>\n",
              "    <tr style=\"text-align: right;\">\n",
              "      <th></th>\n",
              "      <th>Id</th>\n",
              "      <th>TotalSleepRecords</th>\n",
              "      <th>TotalMinutesAsleep</th>\n",
              "      <th>TotalTimeInBed</th>\n",
              "    </tr>\n",
              "  </thead>\n",
              "  <tbody>\n",
              "    <tr>\n",
              "      <th>count</th>\n",
              "      <td>4.130000e+02</td>\n",
              "      <td>413.000000</td>\n",
              "      <td>413.000000</td>\n",
              "      <td>413.000000</td>\n",
              "    </tr>\n",
              "    <tr>\n",
              "      <th>mean</th>\n",
              "      <td>5.000979e+09</td>\n",
              "      <td>1.118644</td>\n",
              "      <td>419.467312</td>\n",
              "      <td>458.639225</td>\n",
              "    </tr>\n",
              "    <tr>\n",
              "      <th>std</th>\n",
              "      <td>2.060360e+09</td>\n",
              "      <td>0.345521</td>\n",
              "      <td>118.344679</td>\n",
              "      <td>127.101607</td>\n",
              "    </tr>\n",
              "    <tr>\n",
              "      <th>min</th>\n",
              "      <td>1.503960e+09</td>\n",
              "      <td>1.000000</td>\n",
              "      <td>58.000000</td>\n",
              "      <td>61.000000</td>\n",
              "    </tr>\n",
              "    <tr>\n",
              "      <th>25%</th>\n",
              "      <td>3.977334e+09</td>\n",
              "      <td>1.000000</td>\n",
              "      <td>361.000000</td>\n",
              "      <td>403.000000</td>\n",
              "    </tr>\n",
              "    <tr>\n",
              "      <th>50%</th>\n",
              "      <td>4.702922e+09</td>\n",
              "      <td>1.000000</td>\n",
              "      <td>433.000000</td>\n",
              "      <td>463.000000</td>\n",
              "    </tr>\n",
              "    <tr>\n",
              "      <th>75%</th>\n",
              "      <td>6.962181e+09</td>\n",
              "      <td>1.000000</td>\n",
              "      <td>490.000000</td>\n",
              "      <td>526.000000</td>\n",
              "    </tr>\n",
              "    <tr>\n",
              "      <th>max</th>\n",
              "      <td>8.792010e+09</td>\n",
              "      <td>3.000000</td>\n",
              "      <td>796.000000</td>\n",
              "      <td>961.000000</td>\n",
              "    </tr>\n",
              "  </tbody>\n",
              "</table>\n",
              "</div>\n",
              "    <div class=\"colab-df-buttons\">\n",
              "\n",
              "  <div class=\"colab-df-container\">\n",
              "    <button class=\"colab-df-convert\" onclick=\"convertToInteractive('df-c6a979d6-ffeb-4de2-9b57-9037032a1ab7')\"\n",
              "            title=\"Convert this dataframe to an interactive table.\"\n",
              "            style=\"display:none;\">\n",
              "\n",
              "  <svg xmlns=\"http://www.w3.org/2000/svg\" height=\"24px\" viewBox=\"0 -960 960 960\">\n",
              "    <path d=\"M120-120v-720h720v720H120Zm60-500h600v-160H180v160Zm220 220h160v-160H400v160Zm0 220h160v-160H400v160ZM180-400h160v-160H180v160Zm440 0h160v-160H620v160ZM180-180h160v-160H180v160Zm440 0h160v-160H620v160Z\"/>\n",
              "  </svg>\n",
              "    </button>\n",
              "\n",
              "  <style>\n",
              "    .colab-df-container {\n",
              "      display:flex;\n",
              "      gap: 12px;\n",
              "    }\n",
              "\n",
              "    .colab-df-convert {\n",
              "      background-color: #E8F0FE;\n",
              "      border: none;\n",
              "      border-radius: 50%;\n",
              "      cursor: pointer;\n",
              "      display: none;\n",
              "      fill: #1967D2;\n",
              "      height: 32px;\n",
              "      padding: 0 0 0 0;\n",
              "      width: 32px;\n",
              "    }\n",
              "\n",
              "    .colab-df-convert:hover {\n",
              "      background-color: #E2EBFA;\n",
              "      box-shadow: 0px 1px 2px rgba(60, 64, 67, 0.3), 0px 1px 3px 1px rgba(60, 64, 67, 0.15);\n",
              "      fill: #174EA6;\n",
              "    }\n",
              "\n",
              "    .colab-df-buttons div {\n",
              "      margin-bottom: 4px;\n",
              "    }\n",
              "\n",
              "    [theme=dark] .colab-df-convert {\n",
              "      background-color: #3B4455;\n",
              "      fill: #D2E3FC;\n",
              "    }\n",
              "\n",
              "    [theme=dark] .colab-df-convert:hover {\n",
              "      background-color: #434B5C;\n",
              "      box-shadow: 0px 1px 3px 1px rgba(0, 0, 0, 0.15);\n",
              "      filter: drop-shadow(0px 1px 2px rgba(0, 0, 0, 0.3));\n",
              "      fill: #FFFFFF;\n",
              "    }\n",
              "  </style>\n",
              "\n",
              "    <script>\n",
              "      const buttonEl =\n",
              "        document.querySelector('#df-c6a979d6-ffeb-4de2-9b57-9037032a1ab7 button.colab-df-convert');\n",
              "      buttonEl.style.display =\n",
              "        google.colab.kernel.accessAllowed ? 'block' : 'none';\n",
              "\n",
              "      async function convertToInteractive(key) {\n",
              "        const element = document.querySelector('#df-c6a979d6-ffeb-4de2-9b57-9037032a1ab7');\n",
              "        const dataTable =\n",
              "          await google.colab.kernel.invokeFunction('convertToInteractive',\n",
              "                                                    [key], {});\n",
              "        if (!dataTable) return;\n",
              "\n",
              "        const docLinkHtml = 'Like what you see? Visit the ' +\n",
              "          '<a target=\"_blank\" href=https://colab.research.google.com/notebooks/data_table.ipynb>data table notebook</a>'\n",
              "          + ' to learn more about interactive tables.';\n",
              "        element.innerHTML = '';\n",
              "        dataTable['output_type'] = 'display_data';\n",
              "        await google.colab.output.renderOutput(dataTable, element);\n",
              "        const docLink = document.createElement('div');\n",
              "        docLink.innerHTML = docLinkHtml;\n",
              "        element.appendChild(docLink);\n",
              "      }\n",
              "    </script>\n",
              "  </div>\n",
              "\n",
              "\n",
              "<div id=\"df-e537379a-3ba8-4754-89c9-686a94277a75\">\n",
              "  <button class=\"colab-df-quickchart\" onclick=\"quickchart('df-e537379a-3ba8-4754-89c9-686a94277a75')\"\n",
              "            title=\"Suggest charts\"\n",
              "            style=\"display:none;\">\n",
              "\n",
              "<svg xmlns=\"http://www.w3.org/2000/svg\" height=\"24px\"viewBox=\"0 0 24 24\"\n",
              "     width=\"24px\">\n",
              "    <g>\n",
              "        <path d=\"M19 3H5c-1.1 0-2 .9-2 2v14c0 1.1.9 2 2 2h14c1.1 0 2-.9 2-2V5c0-1.1-.9-2-2-2zM9 17H7v-7h2v7zm4 0h-2V7h2v10zm4 0h-2v-4h2v4z\"/>\n",
              "    </g>\n",
              "</svg>\n",
              "  </button>\n",
              "\n",
              "<style>\n",
              "  .colab-df-quickchart {\n",
              "      --bg-color: #E8F0FE;\n",
              "      --fill-color: #1967D2;\n",
              "      --hover-bg-color: #E2EBFA;\n",
              "      --hover-fill-color: #174EA6;\n",
              "      --disabled-fill-color: #AAA;\n",
              "      --disabled-bg-color: #DDD;\n",
              "  }\n",
              "\n",
              "  [theme=dark] .colab-df-quickchart {\n",
              "      --bg-color: #3B4455;\n",
              "      --fill-color: #D2E3FC;\n",
              "      --hover-bg-color: #434B5C;\n",
              "      --hover-fill-color: #FFFFFF;\n",
              "      --disabled-bg-color: #3B4455;\n",
              "      --disabled-fill-color: #666;\n",
              "  }\n",
              "\n",
              "  .colab-df-quickchart {\n",
              "    background-color: var(--bg-color);\n",
              "    border: none;\n",
              "    border-radius: 50%;\n",
              "    cursor: pointer;\n",
              "    display: none;\n",
              "    fill: var(--fill-color);\n",
              "    height: 32px;\n",
              "    padding: 0;\n",
              "    width: 32px;\n",
              "  }\n",
              "\n",
              "  .colab-df-quickchart:hover {\n",
              "    background-color: var(--hover-bg-color);\n",
              "    box-shadow: 0 1px 2px rgba(60, 64, 67, 0.3), 0 1px 3px 1px rgba(60, 64, 67, 0.15);\n",
              "    fill: var(--button-hover-fill-color);\n",
              "  }\n",
              "\n",
              "  .colab-df-quickchart-complete:disabled,\n",
              "  .colab-df-quickchart-complete:disabled:hover {\n",
              "    background-color: var(--disabled-bg-color);\n",
              "    fill: var(--disabled-fill-color);\n",
              "    box-shadow: none;\n",
              "  }\n",
              "\n",
              "  .colab-df-spinner {\n",
              "    border: 2px solid var(--fill-color);\n",
              "    border-color: transparent;\n",
              "    border-bottom-color: var(--fill-color);\n",
              "    animation:\n",
              "      spin 1s steps(1) infinite;\n",
              "  }\n",
              "\n",
              "  @keyframes spin {\n",
              "    0% {\n",
              "      border-color: transparent;\n",
              "      border-bottom-color: var(--fill-color);\n",
              "      border-left-color: var(--fill-color);\n",
              "    }\n",
              "    20% {\n",
              "      border-color: transparent;\n",
              "      border-left-color: var(--fill-color);\n",
              "      border-top-color: var(--fill-color);\n",
              "    }\n",
              "    30% {\n",
              "      border-color: transparent;\n",
              "      border-left-color: var(--fill-color);\n",
              "      border-top-color: var(--fill-color);\n",
              "      border-right-color: var(--fill-color);\n",
              "    }\n",
              "    40% {\n",
              "      border-color: transparent;\n",
              "      border-right-color: var(--fill-color);\n",
              "      border-top-color: var(--fill-color);\n",
              "    }\n",
              "    60% {\n",
              "      border-color: transparent;\n",
              "      border-right-color: var(--fill-color);\n",
              "    }\n",
              "    80% {\n",
              "      border-color: transparent;\n",
              "      border-right-color: var(--fill-color);\n",
              "      border-bottom-color: var(--fill-color);\n",
              "    }\n",
              "    90% {\n",
              "      border-color: transparent;\n",
              "      border-bottom-color: var(--fill-color);\n",
              "    }\n",
              "  }\n",
              "</style>\n",
              "\n",
              "  <script>\n",
              "    async function quickchart(key) {\n",
              "      const quickchartButtonEl =\n",
              "        document.querySelector('#' + key + ' button');\n",
              "      quickchartButtonEl.disabled = true;  // To prevent multiple clicks.\n",
              "      quickchartButtonEl.classList.add('colab-df-spinner');\n",
              "      try {\n",
              "        const charts = await google.colab.kernel.invokeFunction(\n",
              "            'suggestCharts', [key], {});\n",
              "      } catch (error) {\n",
              "        console.error('Error during call to suggestCharts:', error);\n",
              "      }\n",
              "      quickchartButtonEl.classList.remove('colab-df-spinner');\n",
              "      quickchartButtonEl.classList.add('colab-df-quickchart-complete');\n",
              "    }\n",
              "    (() => {\n",
              "      let quickchartButtonEl =\n",
              "        document.querySelector('#df-e537379a-3ba8-4754-89c9-686a94277a75 button');\n",
              "      quickchartButtonEl.style.display =\n",
              "        google.colab.kernel.accessAllowed ? 'block' : 'none';\n",
              "    })();\n",
              "  </script>\n",
              "</div>\n",
              "\n",
              "    </div>\n",
              "  </div>\n"
            ],
            "application/vnd.google.colaboratory.intrinsic+json": {
              "type": "dataframe",
              "summary": "{\n  \"name\": \"sleep_day_df\",\n  \"rows\": 8,\n  \"fields\": [\n    {\n      \"column\": \"Id\",\n      \"properties\": {\n        \"dtype\": \"number\",\n        \"std\": 2905706756.901869,\n        \"min\": 413.0,\n        \"max\": 8792009665.0,\n        \"num_unique_values\": 8,\n        \"samples\": [\n          5000979403.213075,\n          4702921684.0,\n          413.0\n        ],\n        \"semantic_type\": \"\",\n        \"description\": \"\"\n      }\n    },\n    {\n      \"column\": \"TotalSleepRecords\",\n      \"properties\": {\n        \"dtype\": \"number\",\n        \"std\": 145.59207468352324,\n        \"min\": 0.34552071537368767,\n        \"max\": 413.0,\n        \"num_unique_values\": 5,\n        \"samples\": [\n          1.11864406779661,\n          3.0,\n          0.34552071537368767\n        ],\n        \"semantic_type\": \"\",\n        \"description\": \"\"\n      }\n    },\n    {\n      \"column\": \"TotalMinutesAsleep\",\n      \"properties\": {\n        \"dtype\": \"number\",\n        \"std\": 227.6659047368194,\n        \"min\": 58.0,\n        \"max\": 796.0,\n        \"num_unique_values\": 8,\n        \"samples\": [\n          419.46731234866826,\n          433.0,\n          413.0\n        ],\n        \"semantic_type\": \"\",\n        \"description\": \"\"\n      }\n    },\n    {\n      \"column\": \"TotalTimeInBed\",\n      \"properties\": {\n        \"dtype\": \"number\",\n        \"std\": 273.0567075582619,\n        \"min\": 61.0,\n        \"max\": 961.0,\n        \"num_unique_values\": 8,\n        \"samples\": [\n          458.6392251815981,\n          463.0,\n          413.0\n        ],\n        \"semantic_type\": \"\",\n        \"description\": \"\"\n      }\n    }\n  ]\n}"
            }
          },
          "metadata": {},
          "execution_count": 4
        }
      ]
    },
    {
      "cell_type": "markdown",
      "source": [
        "#Data Cleaning"
      ],
      "metadata": {
        "id": "Rsa5A2iDm4k-"
      }
    },
    {
      "cell_type": "code",
      "source": [
        "# Handle missing values\n",
        "minute_sleep_df = minute_sleep_df.dropna()  # Or use other imputation methods\n",
        "sleep_day_df = sleep_day_df.dropna()  # Or use other imputation methods\n",
        "\n",
        "# Convert data types if necessary\n",
        "# Example: Convert date columns to datetime\n",
        "sleep_day_df['SleepDay'] = pd.to_datetime(sleep_day_df['SleepDay'])\n"
      ],
      "metadata": {
        "colab": {
          "base_uri": "https://localhost:8080/"
        },
        "id": "lmrQMYlvm6HE",
        "outputId": "b26a1a1a-e42c-41c2-a605-89410bbf5558"
      },
      "execution_count": 5,
      "outputs": [
        {
          "output_type": "stream",
          "name": "stderr",
          "text": [
            "<ipython-input-5-58d4a9bb145a>:7: UserWarning: Could not infer format, so each element will be parsed individually, falling back to `dateutil`. To ensure parsing is consistent and as-expected, please specify a format.\n",
            "  sleep_day_df['SleepDay'] = pd.to_datetime(sleep_day_df['SleepDay'])\n"
          ]
        }
      ]
    },
    {
      "cell_type": "code",
      "source": [
        "sleep_day_df['SleepDay'] = pd.to_datetime(sleep_day_df['SleepDay'], format='%m/%d/%Y')\n"
      ],
      "metadata": {
        "id": "m_3eUurCnGUU"
      },
      "execution_count": 6,
      "outputs": []
    },
    {
      "cell_type": "code",
      "source": [
        "minute_sleep_df = minute_sleep_df.dropna()\n",
        "sleep_day_df = sleep_day_df.dropna()\n"
      ],
      "metadata": {
        "id": "IUKRHEcSnIYe"
      },
      "execution_count": 7,
      "outputs": []
    },
    {
      "cell_type": "code",
      "source": [
        "# Separate numeric columns\n",
        "numeric_cols = minute_sleep_df.select_dtypes(include=['number']).columns\n",
        "\n",
        "# Fill missing values in numeric columns with their mean\n",
        "minute_sleep_df[numeric_cols] = minute_sleep_df[numeric_cols].fillna(minute_sleep_df[numeric_cols].mean())\n",
        "\n",
        "# Handle non-numeric columns separately if needed\n",
        "# Example: fill missing values in a string column with a placeholder\n",
        "# minute_sleep_df['NonNumericColumn'] = minute_sleep_df['NonNumericColumn'].fillna('Unknown')\n",
        "\n",
        "# Do the same for sleep_day_df\n",
        "numeric_cols_sleep = sleep_day_df.select_dtypes(include=['number']).columns\n",
        "sleep_day_df[numeric_cols_sleep] = sleep_day_df[numeric_cols_sleep].fillna(sleep_day_df[numeric_cols_sleep].mean())\n"
      ],
      "metadata": {
        "id": "Jlllz2HEnfyN"
      },
      "execution_count": 10,
      "outputs": []
    },
    {
      "cell_type": "code",
      "source": [
        "# Attempt to parse dates without specifying the format\n",
        "sleep_day_df['SleepDay'] = pd.to_datetime(sleep_day_df['SleepDay'], errors='coerce')  # Use errors='coerce' to handle invalid parsing\n"
      ],
      "metadata": {
        "id": "jWNxddBvnihK"
      },
      "execution_count": 11,
      "outputs": []
    },
    {
      "cell_type": "code",
      "source": [
        "import pandas as pd\n",
        "\n",
        "# Load datasets\n",
        "minute_sleep_df = pd.read_csv('minuteSleep_merged.csv')\n",
        "sleep_day_df = pd.read_csv('sleepDay_merged.csv')\n",
        "\n",
        "# Separate numeric columns and fill missing values\n",
        "numeric_cols = minute_sleep_df.select_dtypes(include=['number']).columns\n",
        "minute_sleep_df[numeric_cols] = minute_sleep_df[numeric_cols].fillna(minute_sleep_df[numeric_cols].mean())\n",
        "\n",
        "# Handle non-numeric columns if needed\n",
        "# Example: Fill missing values in a string column with a placeholder\n",
        "# minute_sleep_df['NonNumericColumn'] = minute_sleep_df['NonNumericColumn'].fillna('Unknown')\n",
        "\n",
        "# Repeat for sleep_day_df\n",
        "numeric_cols_sleep = sleep_day_df.select_dtypes(include=['number']).columns\n",
        "sleep_day_df[numeric_cols_sleep] = sleep_day_df[numeric_cols_sleep].fillna(sleep_day_df[numeric_cols_sleep].mean())\n",
        "\n",
        "# Attempt to parse dates with errors='coerce'\n",
        "sleep_day_df['SleepDay'] = pd.to_datetime(sleep_day_df['SleepDay'], errors='coerce')\n",
        "\n",
        "# Check data types\n",
        "print(minute_sleep_df.dtypes)\n",
        "print(sleep_day_df.dtypes)\n"
      ],
      "metadata": {
        "colab": {
          "base_uri": "https://localhost:8080/"
        },
        "id": "UcRbitGqnmf8",
        "outputId": "6f147694-2fdc-4428-bf3f-8baa3007fad3"
      },
      "execution_count": 12,
      "outputs": [
        {
          "output_type": "stream",
          "name": "stdout",
          "text": [
            "Id        int64\n",
            "date     object\n",
            "value     int64\n",
            "logId     int64\n",
            "dtype: object\n",
            "Id                             int64\n",
            "SleepDay              datetime64[ns]\n",
            "TotalSleepRecords              int64\n",
            "TotalMinutesAsleep             int64\n",
            "TotalTimeInBed                 int64\n",
            "dtype: object\n"
          ]
        },
        {
          "output_type": "stream",
          "name": "stderr",
          "text": [
            "<ipython-input-12-99f49cde30d4>:20: UserWarning: Could not infer format, so each element will be parsed individually, falling back to `dateutil`. To ensure parsing is consistent and as-expected, please specify a format.\n",
            "  sleep_day_df['SleepDay'] = pd.to_datetime(sleep_day_df['SleepDay'], errors='coerce')\n"
          ]
        }
      ]
    },
    {
      "cell_type": "code",
      "source": [
        "# Example for 'MM/DD/YYYY' format\n",
        "sleep_day_df['SleepDay'] = pd.to_datetime(sleep_day_df['SleepDay'], format='%m/%d/%Y', errors='coerce')\n"
      ],
      "metadata": {
        "id": "Ky8cQpzuntzm"
      },
      "execution_count": 13,
      "outputs": []
    },
    {
      "cell_type": "code",
      "source": [
        "# Display a sample of date values\n",
        "print(sleep_day_df['SleepDay'].head())\n"
      ],
      "metadata": {
        "colab": {
          "base_uri": "https://localhost:8080/"
        },
        "id": "h0UBgbcgnvzV",
        "outputId": "170299d1-1350-4bb4-f718-2ff3b766968f"
      },
      "execution_count": 14,
      "outputs": [
        {
          "output_type": "stream",
          "name": "stdout",
          "text": [
            "0   2016-04-12\n",
            "1   2016-04-13\n",
            "2   2016-04-15\n",
            "3   2016-04-16\n",
            "4   2016-04-17\n",
            "Name: SleepDay, dtype: datetime64[ns]\n"
          ]
        }
      ]
    },
    {
      "cell_type": "code",
      "source": [
        "import pandas as pd\n",
        "\n",
        "# Load datasets\n",
        "minute_sleep_df = pd.read_csv('minuteSleep_merged.csv')\n",
        "sleep_day_df = pd.read_csv('sleepDay_merged.csv')\n",
        "\n",
        "# Handle missing values in numeric columns\n",
        "numeric_cols = minute_sleep_df.select_dtypes(include=['number']).columns\n",
        "minute_sleep_df[numeric_cols] = minute_sleep_df[numeric_cols].fillna(minute_sleep_df[numeric_cols].mean())\n",
        "\n",
        "numeric_cols_sleep = sleep_day_df.select_dtypes(include=['number']).columns\n",
        "sleep_day_df[numeric_cols_sleep] = sleep_day_df[numeric_cols_sleep].fillna(sleep_day_df[numeric_cols_sleep].mean())\n",
        "\n",
        "# Check sample of 'SleepDay' to determine date format\n",
        "print(sleep_day_df['SleepDay'].head())\n",
        "\n",
        "# Convert 'SleepDay' to datetime with specified format\n",
        "sleep_day_df['SleepDay'] = pd.to_datetime(sleep_day_df['SleepDay'], format='%m/%d/%Y', errors='coerce')\n",
        "\n",
        "# Check for any parsing issues\n",
        "print(sleep_day_df['SleepDay'].isna().sum())\n",
        "\n",
        "# Remove rows with NaT in 'SleepDay'\n",
        "sleep_day_df = sleep_day_df.dropna(subset=['SleepDay'])\n",
        "\n",
        "# Check data types\n",
        "print(minute_sleep_df.dtypes)\n",
        "print(sleep_day_df.dtypes)\n"
      ],
      "metadata": {
        "colab": {
          "base_uri": "https://localhost:8080/"
        },
        "id": "iHZuqZEfnyRE",
        "outputId": "3b600844-ef41-4de4-ed41-a05aca51d714"
      },
      "execution_count": 15,
      "outputs": [
        {
          "output_type": "stream",
          "name": "stdout",
          "text": [
            "0    4/12/2016 12:00:00 AM\n",
            "1    4/13/2016 12:00:00 AM\n",
            "2    4/15/2016 12:00:00 AM\n",
            "3    4/16/2016 12:00:00 AM\n",
            "4    4/17/2016 12:00:00 AM\n",
            "Name: SleepDay, dtype: object\n",
            "413\n",
            "Id        int64\n",
            "date     object\n",
            "value     int64\n",
            "logId     int64\n",
            "dtype: object\n",
            "Id                             int64\n",
            "SleepDay              datetime64[ns]\n",
            "TotalSleepRecords              int64\n",
            "TotalMinutesAsleep             int64\n",
            "TotalTimeInBed                 int64\n",
            "dtype: object\n"
          ]
        }
      ]
    },
    {
      "cell_type": "code",
      "source": [
        "# Check data types\n",
        "minute_sleep_df.dtypes\n",
        "sleep_day_df.dtypes\n"
      ],
      "metadata": {
        "colab": {
          "base_uri": "https://localhost:8080/",
          "height": 241
        },
        "id": "uWOzys91nLuP",
        "outputId": "83b5594e-066f-42c1-9c6c-12ce5e24aa2f"
      },
      "execution_count": 9,
      "outputs": [
        {
          "output_type": "execute_result",
          "data": {
            "text/plain": [
              "Id                             int64\n",
              "SleepDay              datetime64[ns]\n",
              "TotalSleepRecords              int64\n",
              "TotalMinutesAsleep             int64\n",
              "TotalTimeInBed                 int64\n",
              "dtype: object"
            ],
            "text/html": [
              "<div>\n",
              "<style scoped>\n",
              "    .dataframe tbody tr th:only-of-type {\n",
              "        vertical-align: middle;\n",
              "    }\n",
              "\n",
              "    .dataframe tbody tr th {\n",
              "        vertical-align: top;\n",
              "    }\n",
              "\n",
              "    .dataframe thead th {\n",
              "        text-align: right;\n",
              "    }\n",
              "</style>\n",
              "<table border=\"1\" class=\"dataframe\">\n",
              "  <thead>\n",
              "    <tr style=\"text-align: right;\">\n",
              "      <th></th>\n",
              "      <th>0</th>\n",
              "    </tr>\n",
              "  </thead>\n",
              "  <tbody>\n",
              "    <tr>\n",
              "      <th>Id</th>\n",
              "      <td>int64</td>\n",
              "    </tr>\n",
              "    <tr>\n",
              "      <th>SleepDay</th>\n",
              "      <td>datetime64[ns]</td>\n",
              "    </tr>\n",
              "    <tr>\n",
              "      <th>TotalSleepRecords</th>\n",
              "      <td>int64</td>\n",
              "    </tr>\n",
              "    <tr>\n",
              "      <th>TotalMinutesAsleep</th>\n",
              "      <td>int64</td>\n",
              "    </tr>\n",
              "    <tr>\n",
              "      <th>TotalTimeInBed</th>\n",
              "      <td>int64</td>\n",
              "    </tr>\n",
              "  </tbody>\n",
              "</table>\n",
              "</div><br><label><b>dtype:</b> object</label>"
            ]
          },
          "metadata": {},
          "execution_count": 9
        }
      ]
    },
    {
      "cell_type": "markdown",
      "source": [],
      "metadata": {
        "id": "w46u2TuAopIO"
      }
    },
    {
      "cell_type": "code",
      "source": [
        "import pandas as pd\n",
        "from google.colab import files\n",
        "\n",
        "# Load datasets\n",
        "minute_sleep_df = pd.read_csv('minuteSleep_merged.csv')\n",
        "sleep_day_df = pd.read_csv('sleepDay_merged.csv')\n",
        "\n",
        "# Handle missing values in numeric columns for minute_sleep_df\n",
        "numeric_cols_minute = minute_sleep_df.select_dtypes(include=['number']).columns\n",
        "minute_sleep_df[numeric_cols_minute] = minute_sleep_df[numeric_cols_minute].fillna(minute_sleep_df[numeric_cols_minute].mean())\n",
        "\n",
        "# Handle missing values in numeric columns for sleep_day_df\n",
        "numeric_cols_sleep = sleep_day_df.select_dtypes(include=['number']).columns\n",
        "sleep_day_df[numeric_cols_sleep] = sleep_day_df[numeric_cols_sleep].fillna(sleep_day_df[numeric_cols_sleep].mean())\n",
        "\n",
        "# Convert 'SleepDay' to datetime with specified format\n",
        "sleep_day_df['SleepDay'] = pd.to_datetime(sleep_day_df['SleepDay'], format='%m/%d/%Y', errors='coerce')\n",
        "\n",
        "# Remove rows with NaT in 'SleepDay'\n",
        "sleep_day_df = sleep_day_df.dropna(subset=['SleepDay'])\n",
        "\n",
        "# Convert 'date' in minute_sleep_df to datetime\n",
        "minute_sleep_df['date'] = pd.to_datetime(minute_sleep_df['date'], errors='coerce')\n",
        "minute_sleep_df = minute_sleep_df.dropna(subset=['date'])\n",
        "\n",
        "# Merge datasets on 'date' and 'SleepDay'\n",
        "merged_df = pd.merge(minute_sleep_df, sleep_day_df, left_on='date', right_on='SleepDay', how='inner')\n",
        "\n",
        "# Save the merged and cleaned data to a single CSV file\n",
        "merged_df.to_csv('/content/cleaned_merged_data.csv', index=False)\n",
        "\n",
        "print(\"Data cleaned, merged, and saved to CSV file.\")\n",
        "\n",
        "# Download the merged CSV file\n",
        "files.download('/content/cleaned_merged_data.csv')\n"
      ],
      "metadata": {
        "colab": {
          "base_uri": "https://localhost:8080/",
          "height": 34
        },
        "id": "RYqynZ1opD4X",
        "outputId": "a14d26c2-9515-4544-e235-566563425847"
      },
      "execution_count": 19,
      "outputs": [
        {
          "output_type": "stream",
          "name": "stdout",
          "text": [
            "Data cleaned, merged, and saved to CSV file.\n"
          ]
        },
        {
          "output_type": "display_data",
          "data": {
            "text/plain": [
              "<IPython.core.display.Javascript object>"
            ],
            "application/javascript": [
              "\n",
              "    async function download(id, filename, size) {\n",
              "      if (!google.colab.kernel.accessAllowed) {\n",
              "        return;\n",
              "      }\n",
              "      const div = document.createElement('div');\n",
              "      const label = document.createElement('label');\n",
              "      label.textContent = `Downloading \"${filename}\": `;\n",
              "      div.appendChild(label);\n",
              "      const progress = document.createElement('progress');\n",
              "      progress.max = size;\n",
              "      div.appendChild(progress);\n",
              "      document.body.appendChild(div);\n",
              "\n",
              "      const buffers = [];\n",
              "      let downloaded = 0;\n",
              "\n",
              "      const channel = await google.colab.kernel.comms.open(id);\n",
              "      // Send a message to notify the kernel that we're ready.\n",
              "      channel.send({})\n",
              "\n",
              "      for await (const message of channel.messages) {\n",
              "        // Send a message to notify the kernel that we're ready.\n",
              "        channel.send({})\n",
              "        if (message.buffers) {\n",
              "          for (const buffer of message.buffers) {\n",
              "            buffers.push(buffer);\n",
              "            downloaded += buffer.byteLength;\n",
              "            progress.value = downloaded;\n",
              "          }\n",
              "        }\n",
              "      }\n",
              "      const blob = new Blob(buffers, {type: 'application/binary'});\n",
              "      const a = document.createElement('a');\n",
              "      a.href = window.URL.createObjectURL(blob);\n",
              "      a.download = filename;\n",
              "      div.appendChild(a);\n",
              "      a.click();\n",
              "      div.remove();\n",
              "    }\n",
              "  "
            ]
          },
          "metadata": {}
        },
        {
          "output_type": "display_data",
          "data": {
            "text/plain": [
              "<IPython.core.display.Javascript object>"
            ],
            "application/javascript": [
              "download(\"download_bd8ef60c-4b8d-4287-82da-d75a6d4b8fbe\", \"cleaned_merged_data.csv\", 88)"
            ]
          },
          "metadata": {}
        }
      ]
    }
  ]
}