{
  "nbformat": 4,
  "nbformat_minor": 0,
  "metadata": {
    "colab": {
      "provenance": [],
      "authorship_tag": "ABX9TyNQ/Yzd4zPLYydZGkL+96pE",
      "include_colab_link": true
    },
    "kernelspec": {
      "name": "python3",
      "display_name": "Python 3"
    },
    "language_info": {
      "name": "python"
    }
  },
  "cells": [
    {
      "cell_type": "markdown",
      "metadata": {
        "id": "view-in-github",
        "colab_type": "text"
      },
      "source": [
        "<a href=\"https://colab.research.google.com/github/Harhsa/Harhsa/blob/main/weightLogInfo.ipynb\" target=\"_parent\"><img src=\"https://colab.research.google.com/assets/colab-badge.svg\" alt=\"Open In Colab\"/></a>"
      ]
    },
    {
      "cell_type": "markdown",
      "source": [
        "##**weight Log Info**"
      ],
      "metadata": {
        "id": "M-PVw6-5qZAs"
      }
    },
    {
      "cell_type": "markdown",
      "source": [
        "#Load and Inspect the Data"
      ],
      "metadata": {
        "id": "AV6kZS-rqfr1"
      }
    },
    {
      "cell_type": "code",
      "source": [
        "import pandas as pd\n",
        "\n",
        "# Load the dataset\n",
        "weight_log_df = pd.read_csv('weightLogInfo_merged.csv')\n",
        "\n",
        "# Display the first few rows\n",
        "print(weight_log_df.head())\n",
        "\n",
        "# Display data types\n",
        "print(weight_log_df.dtypes)\n"
      ],
      "metadata": {
        "colab": {
          "base_uri": "https://localhost:8080/"
        },
        "id": "NdV77lrjqhKP",
        "outputId": "c219ea70-baac-4c79-d00d-17c3650b6a8d"
      },
      "execution_count": 1,
      "outputs": [
        {
          "output_type": "stream",
          "name": "stdout",
          "text": [
            "           Id                   Date    WeightKg  WeightPounds   Fat  \\\n",
            "0  1503960366   5/2/2016 11:59:59 PM   52.599998    115.963147  22.0   \n",
            "1  1503960366   5/3/2016 11:59:59 PM   52.599998    115.963147   NaN   \n",
            "2  1927972279   4/13/2016 1:08:52 AM  133.500000    294.317120   NaN   \n",
            "3  2873212765  4/21/2016 11:59:59 PM   56.700001    125.002104   NaN   \n",
            "4  2873212765  5/12/2016 11:59:59 PM   57.299999    126.324875   NaN   \n",
            "\n",
            "         BMI  IsManualReport          LogId  \n",
            "0  22.650000            True  1462233599000  \n",
            "1  22.650000            True  1462319999000  \n",
            "2  47.540001           False  1460509732000  \n",
            "3  21.450001            True  1461283199000  \n",
            "4  21.690001            True  1463097599000  \n",
            "Id                  int64\n",
            "Date               object\n",
            "WeightKg          float64\n",
            "WeightPounds      float64\n",
            "Fat               float64\n",
            "BMI               float64\n",
            "IsManualReport       bool\n",
            "LogId               int64\n",
            "dtype: object\n"
          ]
        }
      ]
    },
    {
      "cell_type": "markdown",
      "source": [
        "# Data Cleaning"
      ],
      "metadata": {
        "id": "aTUjxiiPqjqY"
      }
    },
    {
      "cell_type": "code",
      "source": [
        "import pandas as pd\n",
        "\n",
        "# Load the dataset\n",
        "weight_log_df = pd.read_csv('weightLogInfo_merged.csv')\n",
        "\n",
        "# Check for missing values\n",
        "print(\"Initial Missing Values:\")\n",
        "print(weight_log_df.isna().sum())\n",
        "\n",
        "# Fill missing values in 'Fat' column with median\n",
        "weight_log_df['Fat'] = weight_log_df['Fat'].fillna(weight_log_df['Fat'].median())\n",
        "\n",
        "# Convert 'Date' to datetime with specified format (replace with your actual format)\n",
        "weight_log_df.loc[:, 'Date'] = pd.to_datetime(weight_log_df['Date'], format='%m/%d/%Y', errors='coerce')\n",
        "\n",
        "# Drop rows with missing values (if any)\n",
        "weight_log_df = weight_log_df.dropna()\n",
        "\n",
        "# Check for any remaining issues\n",
        "print(\"After Cleaning Missing Values:\")\n",
        "print(weight_log_df.isna().sum())\n",
        "\n",
        "# Save the cleaned dataset\n",
        "weight_log_df.to_csv('/content/cleaned_weight_log_data.csv', index=False)\n",
        "\n",
        "print(\"Data cleaned and saved to CSV file.\")\n"
      ],
      "metadata": {
        "colab": {
          "base_uri": "https://localhost:8080/"
        },
        "id": "MjPK2JICrEDr",
        "outputId": "87aaaca1-4501-4bd7-81df-62012ed492b9"
      },
      "execution_count": 4,
      "outputs": [
        {
          "output_type": "stream",
          "name": "stdout",
          "text": [
            "Initial Missing Values:\n",
            "Id                 0\n",
            "Date               0\n",
            "WeightKg           0\n",
            "WeightPounds       0\n",
            "Fat               65\n",
            "BMI                0\n",
            "IsManualReport     0\n",
            "LogId              0\n",
            "dtype: int64\n",
            "After Cleaning Missing Values:\n",
            "Id                0\n",
            "Date              0\n",
            "WeightKg          0\n",
            "WeightPounds      0\n",
            "Fat               0\n",
            "BMI               0\n",
            "IsManualReport    0\n",
            "LogId             0\n",
            "dtype: int64\n",
            "Data cleaned and saved to CSV file.\n"
          ]
        }
      ]
    },
    {
      "cell_type": "markdown",
      "source": [
        "#Data Visualization"
      ],
      "metadata": {
        "id": "bVEy0gxyrT7-"
      }
    },
    {
      "cell_type": "code",
      "source": [
        "import matplotlib.pyplot as plt\n",
        "import seaborn as sns\n",
        "\n",
        "# Verify column names\n",
        "print(weight_log_df.columns)\n",
        "\n",
        "# Plot Distribution of Weight (Kg or Pounds)\n",
        "weight_column = 'WeightKg'  # or 'WeightPounds' depending on which column you want to use\n",
        "\n",
        "plt.figure(figsize=(10, 6))\n",
        "sns.histplot(weight_log_df[weight_column], kde=True)\n",
        "plt.title(f'Distribution of Weight ({weight_column})')\n",
        "plt.xlabel(weight_column)\n",
        "plt.ylabel('Frequency')\n",
        "plt.show()\n",
        "\n",
        "# Plot Weight Over Time\n",
        "if 'Date' in weight_log_df.columns:\n",
        "    plt.figure(figsize=(12, 6))\n",
        "    plt.plot(weight_log_df['Date'], weight_log_df[weight_column], marker='o')\n",
        "    plt.title(f'Weight Over Time ({weight_column})')\n",
        "    plt.xlabel('Date')\n",
        "    plt.ylabel(weight_column)\n",
        "    plt.xticks(rotation=45)\n",
        "    plt.tight_layout()\n",
        "    plt.show()\n"
      ],
      "metadata": {
        "colab": {
          "base_uri": "https://localhost:8080/",
          "height": 1000
        },
        "id": "6lQx_ac_rl9O",
        "outputId": "07210cb1-5754-45d2-e09d-26935b657f80"
      },
      "execution_count": 7,
      "outputs": [
        {
          "output_type": "stream",
          "name": "stdout",
          "text": [
            "Index(['Id', 'Date', 'WeightKg', 'WeightPounds', 'Fat', 'BMI',\n",
            "       'IsManualReport', 'LogId'],\n",
            "      dtype='object')\n"
          ]
        },
        {
          "output_type": "display_data",
          "data": {
            "text/plain": [
              "<Figure size 1000x600 with 1 Axes>"
            ],
            "image/png": "[encoded data removed]"
          },
          "metadata": {}
        },
        {
          "output_type": "display_data",
          "data": {
            "text/plain": [
              "<Figure size 1200x600 with 1 Axes>"
            ],
            "image/png": "[encoded data removed]"
          },
          "metadata": {}
        }
      ]
    },
    {
      "cell_type": "markdown",
      "source": [
        "# Save and Download Cleaned Data"
      ],
      "metadata": {
        "id": "F7gux0Z6rrVw"
      }
    },
    {
      "cell_type": "code",
      "source": [
        "# Save the cleaned dataset\n",
        "weight_log_df.to_csv('/content/cleaned_weight_log_data.csv', index=False)\n",
        "\n",
        "# Provide a download link\n",
        "from google.colab import files\n",
        "files.download('/content/cleaned_weight_log_data.csv')\n"
      ],
      "metadata": {
        "colab": {
          "base_uri": "https://localhost:8080/",
          "height": 17
        },
        "id": "wIsYjntJr1w1",
        "outputId": "3dcfe3d5-4017-45e1-aaf6-35d9be096bcf"
      },
      "execution_count": 8,
      "outputs": [
        {
          "output_type": "display_data",
          "data": {
            "text/plain": [
              "<IPython.core.display.Javascript object>"
            ],
            "application/javascript": [
              "\n",
              "    async function download(id, filename, size) {\n",
              "      if (!google.colab.kernel.accessAllowed) {\n",
              "        return;\n",
              "      }\n",
              "      const div = document.createElement('div');\n",
              "      const label = document.createElement('label');\n",
              "      label.textContent = `Downloading \"${filename}\": `;\n",
              "      div.appendChild(label);\n",
              "      const progress = document.createElement('progress');\n",
              "      progress.max = size;\n",
              "      div.appendChild(progress);\n",
              "      document.body.appendChild(div);\n",
              "\n",
              "      const buffers = [];\n",
              "      let downloaded = 0;\n",
              "\n",
              "      const channel = await google.colab.kernel.comms.open(id);\n",
              "      // Send a message to notify the kernel that we're ready.\n",
              "      channel.send({})\n",
              "\n",
              "      for await (const message of channel.messages) {\n",
              "        // Send a message to notify the kernel that we're ready.\n",
              "        channel.send({})\n",
              "        if (message.buffers) {\n",
              "          for (const buffer of message.buffers) {\n",
              "            buffers.push(buffer);\n",
              "            downloaded += buffer.byteLength;\n",
              "            progress.value = downloaded;\n",
              "          }\n",
              "        }\n",
              "      }\n",
              "      const blob = new Blob(buffers, {type: 'application/binary'});\n",
              "      const a = document.createElement('a');\n",
              "      a.href = window.URL.createObjectURL(blob);\n",
              "      a.download = filename;\n",
              "      div.appendChild(a);\n",
              "      a.click();\n",
              "      div.remove();\n",
              "    }\n",
              "  "
            ]
          },
          "metadata": {}
        },
        {
          "output_type": "display_data",
          "data": {
            "text/plain": [
              "<IPython.core.display.Javascript object>"
            ],
            "application/javascript": [
              "download(\"download_9f803385-1f8f-4f99-9082-71ac3c307d5f\", \"cleaned_weight_log_data.csv\", 59)"
            ]
          },
          "metadata": {}
        }
      ]
    }
  ]
}